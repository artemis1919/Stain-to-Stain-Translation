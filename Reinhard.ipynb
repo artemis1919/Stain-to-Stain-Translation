{
  "nbformat": 4,
  "nbformat_minor": 0,
  "metadata": {
    "colab": {
      "name": "Reinhard.ipynb",
      "provenance": [],
      "collapsed_sections": [],
      "include_colab_link": true
    },
    "kernelspec": {
      "name": "python3",
      "display_name": "Python 3"
    },
    "accelerator": "GPU"
  },
  "cells": [
    {
      "cell_type": "markdown",
      "metadata": {
        "id": "view-in-github",
        "colab_type": "text"
      },
      "source": [
        "<a href=\"https://colab.research.google.com/github/pegahsalehi/Stain-to_Stain-Translation/blob/master/Reinhard.ipynb\" target=\"_parent\"><img src=\"https://colab.research.google.com/assets/colab-badge.svg\" alt=\"Open In Colab\"/></a>"
      ]
    },
    {
      "cell_type": "code",
      "metadata": {
        "id": "XKEfe_A0rTNP",
        "colab_type": "code",
        "outputId": "61bef09f-37d7-49a7-a591-fc3abb18221a",
        "colab": {
          "base_uri": "https://localhost:8080/",
          "height": 34
        }
      },
      "source": [
        "from google.colab import drive\n",
        "drive.mount('/content/drive')\n"
      ],
      "execution_count": 0,
      "outputs": [
        {
          "output_type": "stream",
          "text": [
            "Drive already mounted at /content/drive; to attempt to forcibly remount, call drive.mount(\"/content/drive\", force_remount=True).\n"
          ],
          "name": "stdout"
        }
      ]
    },
    {
      "cell_type": "code",
      "metadata": {
        "id": "beQoj5cprYjn",
        "colab_type": "code",
        "outputId": "5014ba11-a863-4dfa-a9c6-d23272a8b707",
        "colab": {
          "base_uri": "https://localhost:8080/",
          "height": 258
        }
      },
      "source": [
        "pip install spams"
      ],
      "execution_count": 0,
      "outputs": [
        {
          "output_type": "stream",
          "text": [
            "Collecting spams\n",
            "\u001b[?25l  Downloading https://files.pythonhosted.org/packages/0d/09/ae296293c992e6ec792952827b66ca97cee375af53585c85a1e6d4a54f02/spams-2.6.1.tar.gz (1.9MB)\n",
            "\u001b[K     |████████████████████████████████| 1.9MB 2.7MB/s \n",
            "\u001b[?25hRequirement already satisfied: numpy in /usr/local/lib/python3.6/dist-packages (from spams) (1.17.4)\n",
            "Requirement already satisfied: scipy in /usr/local/lib/python3.6/dist-packages (from spams) (1.3.3)\n",
            "Requirement already satisfied: six in /usr/local/lib/python3.6/dist-packages (from spams) (1.12.0)\n",
            "Building wheels for collected packages: spams\n",
            "  Building wheel for spams (setup.py) ... \u001b[?25l\u001b[?25hdone\n",
            "  Created wheel for spams: filename=spams-2.6.1-cp36-cp36m-linux_x86_64.whl size=4512970 sha256=8aeead5983a41274760a20b76a6e194fa167c482f34c5ac5b6106cead630663a\n",
            "  Stored in directory: /root/.cache/pip/wheels/76/a6/a8/5959872693a82d5497a91aee3665bb1676cee33304d86c1495\n",
            "Successfully built spams\n",
            "Installing collected packages: spams\n",
            "Successfully installed spams-2.6.1\n"
          ],
          "name": "stdout"
        }
      ]
    },
    {
      "cell_type": "code",
      "metadata": {
        "id": "BVY5Ws3Rrvh3",
        "colab_type": "code",
        "colab": {}
      },
      "source": [
        "import cv2 as cv\n",
        "import numpy as np\n",
        "\n",
        "### Some functions ###\n",
        "\n",
        "def lab_split(I):\n",
        "    \"\"\"\n",
        "    Convert from RGB uint8 to LAB and split into channels\n",
        "    :param I: uint8\n",
        "    :return:\n",
        "    \"\"\"\n",
        "    I = cv.cvtColor(I, cv.COLOR_RGB2LAB)\n",
        "    I = I.astype(np.float32)\n",
        "    I1, I2, I3 = cv.split(I)\n",
        "    I1 /= 2.55\n",
        "    I2 -= 128.0\n",
        "    I3 -= 128.0\n",
        "    return I1, I2, I3\n",
        "\n",
        "def merge_back(I1, I2, I3):\n",
        "    \"\"\"\n",
        "    Take seperate LAB channels and merge back to give RGB uint8\n",
        "    :param I1:\n",
        "    :param I2:\n",
        "    :param I3:\n",
        "    :return:\n",
        "    \"\"\"\n",
        "    I1 *= 2.55\n",
        "    I2 += 128.0\n",
        "    I3 += 128.0\n",
        "    I = np.clip(cv.merge((I1, I2, I3)), 0, 255).astype(np.uint8)\n",
        "    return cv.cvtColor(I, cv.COLOR_LAB2RGB)\n",
        "\n",
        "def get_mean_std(I):\n",
        "    \"\"\"\n",
        "    Get mean and standard deviation of each channel\n",
        "    :param I: uint8\n",
        "    :return:\n",
        "    \"\"\"\n",
        "    I1, I2, I3 = lab_split(I)\n",
        "    m1, sd1 = cv.meanStdDev(I1)\n",
        "    m2, sd2 = cv.meanStdDev(I2)\n",
        "    m3, sd3 = cv.meanStdDev(I3)\n",
        "    means = m1, m2, m3\n",
        "    stds = sd1, sd2, sd3\n",
        "    return means, stds\n",
        "\n",
        "### Main class ###\n",
        "\n",
        "class normalizer(object):\n",
        "    \"\"\"\n",
        "    A stain normalization object\n",
        "    \"\"\"\n",
        "    def __init__(self):\n",
        "        self.target_means = None\n",
        "        self.target_stds = None\n",
        "\n",
        "    def fit(self, target):\n",
        "        target = standardize_brightness(target)\n",
        "        means, stds = get_mean_std(target)\n",
        "        self.target_means = means\n",
        "        self.target_stds = stds\n",
        "\n",
        "    def transform(self, I):\n",
        "        I = standardize_brightness(I)\n",
        "        I1, I2, I3 = lab_split(I)\n",
        "        means, stds = get_mean_std(I)\n",
        "        norm1 = ((I1 - means[0]) * (self.target_stds[0] / stds[0])) + self.target_means[0]\n",
        "        norm2 = ((I2 - means[1]) * (self.target_stds[1] / stds[1])) + self.target_means[1]\n",
        "        norm3 = ((I3 - means[2]) * (self.target_stds[2] / stds[2])) + self.target_means[2]\n",
        "        return merge_back(norm1, norm2, norm3)"
      ],
      "execution_count": 0,
      "outputs": []
    },
    {
      "cell_type": "code",
      "metadata": {
        "id": "8knfmNMctZ9_",
        "colab_type": "code",
        "colab": {}
      },
      "source": [
        "import numpy as np\n",
        "import cv2 as cv\n",
        "import spams\n",
        "import matplotlib.pyplot as plt\n",
        "\n",
        "def read_image(path):\n",
        "    \"\"\"\n",
        "    Read an image to RGB uint8\n",
        "    :param path:\n",
        "    :return:\n",
        "    \"\"\"\n",
        "    im = cv.imread(path)\n",
        "    im = cv.cvtColor(im, cv.COLOR_BGR2RGB)\n",
        "    return im\n",
        "\n",
        "def standardize_brightness(I):\n",
        "    \"\"\"\n",
        "    :param I:\n",
        "    :return:\n",
        "    \"\"\"\n",
        "    p = np.percentile(I, 90)\n",
        "    return np.clip(I * 255.0 / p, 0, 255).astype(np.uint8)\n"
      ],
      "execution_count": 0,
      "outputs": []
    },
    {
      "cell_type": "code",
      "metadata": {
        "id": "mkyMfnOeuGmo",
        "colab_type": "code",
        "outputId": "360e653c-6afe-491c-e625-c2eda9fcb14f",
        "colab": {
          "base_uri": "https://localhost:8080/",
          "height": 102
        }
      },
      "source": [
        "import time, errno, cv2, os\n",
        "from glob import glob\n",
        "import numpy as np\n",
        "import matplotlib.pyplot as plt\n",
        "import datetime\n",
        "\n",
        "exp_name = \"\"\n",
        "media_url = \"drive/My Drive/patches\"\n",
        "path_h = \"drive/My Drive/\"\n",
        "\n",
        "i1 = read_image(path_h + \"7.tiff\")\n",
        "\n",
        "def assure_path_exists(path):\n",
        "    dir = os.path.dirname(path)\n",
        "    if not os.path.exists(dir):\n",
        "        try:\n",
        "            os.makedirs(dir)\n",
        "        except OSError as e:\n",
        "            if e.errno != errno.EEXIS:\n",
        "                raise\n",
        "\n",
        "def transform_imgs(dir, output_dir, normalizer=''):\n",
        "    pattern = \"*.tiff\"\n",
        "    images = []\n",
        "    # read directory of images\n",
        "    for _, _, _ in os.walk(dir):\n",
        "        images.extend(glob(os.path.join(dir, pattern)))\n",
        "    # print(len(images))\n",
        "    images.sort()\n",
        "    # images = images[0:2]\n",
        "\n",
        "    for counter, img in enumerate(images):\n",
        "        img_name = (img.split('/')[-1])\n",
        "        transformed_img = normalizer.transform(read_image(img))\n",
        "        cv2.imwrite(output_dir + str(img_name), cv2.cvtColor(transformed_img, cv2.COLOR_RGB2BGR))\n",
        "\n",
        "# start working here\n",
        "print(exp_name)\n",
        "input_dir = media_url + \"/Unorm/\"\n",
        "output_dir = media_url + \"/Reinhard/\"\n",
        "assure_path_exists(output_dir)\n",
        "print(output_dir)\n",
        "\n",
        "start_time = time.time()\n",
        "start_time_p = datetime.datetime.now()\n",
        "\n",
        "n = normalizer()\n",
        "n.fit(i1)\n",
        "transform_imgs(input_dir, output_dir, n)\n",
        "\n",
        "elapsed = (time.time() - start_time)\n",
        "elapsed_time_P = datetime.datetime.now() - start_time_p\n",
        "\n",
        "print(\"--- %s seconds ---\" % round((elapsed / 2), 2),'\\n')\n",
        "print ('time: ',elapsed_time_P)"
      ],
      "execution_count": 0,
      "outputs": [
        {
          "output_type": "stream",
          "text": [
            "\n",
            "drive/My Drive/thesis/pic/K/\n",
            "--- 14.16 seconds --- \n",
            "\n",
            "time:  0:00:28.329338\n"
          ],
          "name": "stdout"
        }
      ]
    }
  ]
}