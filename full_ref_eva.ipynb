{
  "nbformat": 4,
  "nbformat_minor": 0,
  "metadata": {
    "colab": {
      "name": "full_ref_eva.ipynb",
      "provenance": [],
      "collapsed_sections": [],
      "include_colab_link": true
    },
    "kernelspec": {
      "name": "python3",
      "display_name": "Python 3"
    },
    "accelerator": "GPU"
  },
  "cells": [
    {
      "cell_type": "markdown",
      "metadata": {
        "id": "view-in-github",
        "colab_type": "text"
      },
      "source": [
        "<a href=\"https://colab.research.google.com/github/pegahsalehi/Stain-to_Stain-Translation/blob/master/full_ref_eva.ipynb\" target=\"_parent\"><img src=\"https://colab.research.google.com/assets/colab-badge.svg\" alt=\"Open In Colab\"/></a>"
      ]
    },
    {
      "cell_type": "code",
      "metadata": {
        "id": "XUTWry2Iui3l",
        "colab_type": "code",
        "outputId": "8d66608e-595f-43d2-a07f-9ec5faba1c62",
        "colab": {
          "base_uri": "https://localhost:8080/",
          "height": 122
        }
      },
      "source": [
        "from google.colab import drive\n",
        "drive.mount('/content/drive')"
      ],
      "execution_count": 0,
      "outputs": [
        {
          "output_type": "stream",
          "text": [
            "Go to this URL in a browser: https://accounts.google.com/o/oauth2/auth?client_id=947318989803-6bn6qk8qdgf4n4g3pfee6491hc0brc4i.apps.googleusercontent.com&redirect_uri=urn%3aietf%3awg%3aoauth%3a2.0%3aoob&response_type=code&scope=email%20https%3a%2f%2fwww.googleapis.com%2fauth%2fdocs.test%20https%3a%2f%2fwww.googleapis.com%2fauth%2fdrive%20https%3a%2f%2fwww.googleapis.com%2fauth%2fdrive.photos.readonly%20https%3a%2f%2fwww.googleapis.com%2fauth%2fpeopleapi.readonly\n",
            "\n",
            "Enter your authorization code:\n",
            "··········\n",
            "Mounted at /content/drive\n"
          ],
          "name": "stdout"
        }
      ]
    },
    {
      "cell_type": "code",
      "metadata": {
        "id": "GLtvpS7o4awT",
        "colab_type": "code",
        "outputId": "73d465a7-868b-45e3-e167-466bdcf0efe9",
        "colab": {
          "base_uri": "https://localhost:8080/",
          "height": 238
        }
      },
      "source": [
        "pip install sewar"
      ],
      "execution_count": 0,
      "outputs": [
        {
          "output_type": "stream",
          "text": [
            "Collecting sewar\n",
            "  Downloading https://files.pythonhosted.org/packages/0c/5e/9153f0867d94c2c6959c35fda5a323cf3ca8e9979d03426f8444a4b3ba5b/sewar-0.4.3.tar.gz\n",
            "Requirement already satisfied: numpy in /usr/local/lib/python3.6/dist-packages (from sewar) (1.17.4)\n",
            "Requirement already satisfied: scipy in /usr/local/lib/python3.6/dist-packages (from sewar) (1.3.3)\n",
            "Requirement already satisfied: Pillow in /usr/local/lib/python3.6/dist-packages (from sewar) (4.3.0)\n",
            "Requirement already satisfied: olefile in /usr/local/lib/python3.6/dist-packages (from Pillow->sewar) (0.46)\n",
            "Building wheels for collected packages: sewar\n",
            "  Building wheel for sewar (setup.py) ... \u001b[?25l\u001b[?25hdone\n",
            "  Created wheel for sewar: filename=sewar-0.4.3-cp36-none-any.whl size=10348 sha256=10f3b457baf1bf4eda6d6e11737ecb61485c546656916e2e3f2b9a0b5620e0f9\n",
            "  Stored in directory: /root/.cache/pip/wheels/89/b2/ac/ea4b697b7c2393afe8f6f63b54ae6c26ee9fa9debd33e3926e\n",
            "Successfully built sewar\n",
            "Installing collected packages: sewar\n",
            "Successfully installed sewar-0.4.3\n"
          ],
          "name": "stdout"
        }
      ]
    },
    {
      "cell_type": "code",
      "metadata": {
        "id": "2zlAeDRXoQ9y",
        "colab_type": "code",
        "outputId": "83d3a26a-6e2b-4e56-f2f1-a966da169625",
        "colab": {
          "base_uri": "https://localhost:8080/",
          "height": 187
        }
      },
      "source": [
        "\n",
        "from sewar.full_ref import  rmse, uqi, ergas, scc, rase, sam, vifp\n",
        "import numpy as np\n",
        "import matplotlib.pyplot as plt\n",
        "import matplotlib.image as mpimg\n",
        "\n",
        "num = 500\n",
        "\n",
        "evl_list = np.zeros((num,7), dtype='float32')\n",
        "\n",
        "\n",
        "for i in range(500):\n",
        "  GT = mpimg.imread('drive/My Drive/STST/patches/Ground_truth/%d.tiff'%(i+1))\n",
        "  P = mpimg.imread('drive/My Drive/STST/patches/stst/%d.tiff'%(i+1))\n",
        "  \n",
        "  #GT = np.array((a-np.min(a))/(np.max(a)-np.min(a)))\n",
        "  #P = np.array((b-np.min(b))/(np.max(b)-np.min(b)))\n",
        "  \n",
        "  evl_list[i][0] = rmse(GT, P)\n",
        "  evl_list[i][1] = uqi(GT, P)\n",
        "  evl_list[i][2] = ergas(GT, P)\n",
        "  evl_list[i][3] = scc(GT, P)\n",
        "  evl_list[i][4] = rase(GT, P)\n",
        "  evl_list[i][5] = sam(GT, P)\n",
        "  evl_list[i][6] = vifp(GT, P)\n",
        "\n",
        " \n",
        "  if (i % 50) == 0:\n",
        "    print ('step: ', i)\n",
        "\n",
        "avg_list = np.average(evl_list, axis = 0)\n",
        "std_list = np.std(evl_list, axis = 0)\n",
        "\n",
        "np.save('drive/My Drive/STST/patches/evl_list_sp.npy',evl_list)\n",
        "np.save('drive/My Drive/STST/patches/avg_sp.npy',avg_list)\n",
        "np.save('drive/My Drive/STST/patches/std_sp.npy',std_list)\n",
        "\n"
      ],
      "execution_count": 0,
      "outputs": [
        {
          "output_type": "stream",
          "text": [
            "step:  0\n",
            "step:  50\n",
            "step:  100\n",
            "step:  150\n",
            "step:  200\n",
            "step:  250\n",
            "step:  300\n",
            "step:  350\n",
            "step:  400\n",
            "step:  450\n"
          ],
          "name": "stdout"
        }
      ]
    }
  ]
}